{
 "cells": [
  {
   "cell_type": "markdown",
   "metadata": {
    "id": "sTwReW7Zcd9H"
   },
   "source": [
    "# Setup\n",
    "Remember to properly set the global variables in `config.py`  "
   ]
  },
  {
   "cell_type": "code",
   "execution_count": null,
   "metadata": {},
   "outputs": [],
   "source": [
    "from ebm.config import *\n",
    "gpu_device = \"cuda:1\"\n",
    "\n",
    "# For deterministic training\n",
    "set_seed(0)"
   ]
  },
  {
   "cell_type": "markdown",
   "metadata": {},
   "source": [
    "# Tensorboard\n",
    "Doc @ https://pytorch.org/docs/1.7.1/tensorboard.html?highlight=tensorboard  \n",
    "I don't use it form within notebook.   \n",
    "To correctly visualize the runs names, open in TB the parent folder of the runs folders!"
   ]
  },
  {
   "cell_type": "raw",
   "metadata": {},
   "source": [
    "# Load the TensorBoard notebook extension\n",
    "%load_ext tensorboard\n",
    "\n",
    "# If alerady loaded\n",
    "#%reload_ext tensorboard\n",
    "\n",
    "# Launch from \"terminal\": not working here \n",
    "#%tensorboard --logdir /mnt/workspace/EBM_proj/saved_models --host localhost #--port=8889\n",
    "\n",
    "from tensorboard import notebook\n",
    "# View open TensorBoard instances\n",
    "notebook.list() \n",
    "\n",
    "# Display tensorboard in this notebook\n",
    "#notebook.display(port=6007, height=1000)"
   ]
  },
  {
   "cell_type": "markdown",
   "metadata": {},
   "source": [
    "# Import & install libs"
   ]
  },
  {
   "cell_type": "code",
   "execution_count": null,
   "metadata": {
    "colab": {
     "base_uri": "https://localhost:8080/"
    },
    "id": "d7BD4iiu9iO7",
    "outputId": "5384e70b-7397-433b-b61f-c5e1b20cf2ea"
   },
   "outputs": [],
   "source": [
    "%load_ext autoreload\n",
    "%autoreload 2\n",
    "\n",
    "# Standard libraries\n",
    "import numpy as np \n",
    "from tqdm.notebook import tqdm\n",
    "\n",
    "## Imports for plotting\n",
    "import matplotlib.pyplot as plt\n",
    "from matplotlib import cm\n",
    "%matplotlib inline \n",
    "\n",
    "## PyTorch\n",
    "import torch\n",
    "import torch.nn as nn\n",
    "import torch.nn.functional as F\n",
    "import torch.utils.data as data\n",
    "import torch.optim as optim\n",
    "import torch.autograd as autograd\n",
    "from torch.utils.tensorboard import SummaryWriter\n",
    "\n",
    "# Torchvision\n",
    "import torchvision\n",
    "from torchvision.datasets import MNIST\n",
    "from torchvision import transforms\n",
    "from torchvision.utils import make_grid\n",
    "\n",
    "print(\"Torch version: \" + torch.__version__)"
   ]
  },
  {
   "cell_type": "code",
   "execution_count": null,
   "metadata": {},
   "outputs": [],
   "source": [
    "device = torch.device(gpu_device) if torch.cuda.is_available() else torch.device(\"cpu\")\n",
    "print(\"Currenly using the device:\", device)"
   ]
  },
  {
   "cell_type": "markdown",
   "metadata": {
    "id": "xu-1QkBe9zVE"
   },
   "source": [
    "# Dataset"
   ]
  },
  {
   "cell_type": "code",
   "execution_count": null,
   "metadata": {
    "colab": {
     "base_uri": "https://localhost:8080/"
    },
    "id": "WzlZOO1O9wot",
    "outputId": "ebd870b1-2934-403e-ebdb-5140e53c6365"
   },
   "outputs": [],
   "source": [
    "# Create dataset folder if not exists\n",
    "if not os.path.exists(DATASET_PATH):\n",
    "    os.mkdir(DATASET_PATH)"
   ]
  },
  {
   "cell_type": "code",
   "execution_count": null,
   "metadata": {
    "id": "IP5zRaf296Vl"
   },
   "outputs": [],
   "source": [
    "# Transformations applied on each image => make them a tensor and normalize between -1 and 1\n",
    "transform = transforms.Compose(\n",
    "    [transforms.ToTensor(),\n",
    "     transforms.Normalize((0.5, ), (0.5, ))])\n",
    "\n",
    "# Loading the training dataset. We need to split it into a training and validation part\n",
    "train_set = MNIST(root=DATASET_PATH,\n",
    "                  train=True,\n",
    "                  transform=transform,\n",
    "                  download=True)\n",
    "\n",
    "# Loading the test set\n",
    "test_set = MNIST(root=DATASET_PATH,\n",
    "                 train=False,\n",
    "                 transform=transform,\n",
    "                 download=True)"
   ]
  },
  {
   "cell_type": "markdown",
   "metadata": {
    "id": "77EPPgBZB8uU"
   },
   "source": [
    "# Trainer classes"
   ]
  },
  {
   "cell_type": "code",
   "execution_count": null,
   "metadata": {
    "code_folding": [],
    "id": "sKPtGyZOB8Q3"
   },
   "outputs": [],
   "source": [
    "from ebm.train import EBMLangVanilla, EBMLang2Ord\n",
    "from ebm.models import CNNModel, LeNet"
   ]
  },
  {
   "cell_type": "markdown",
   "metadata": {},
   "source": [
    "## Test trainer"
   ]
  },
  {
   "cell_type": "code",
   "execution_count": null,
   "metadata": {},
   "outputs": [],
   "source": [
    "# Test 1\n",
    "MODEL_NAME = \"langVanilla_test\"\n",
    "MODEL_DESCRIPTION = \"This is a debug run\"\n",
    "MODEL_FAMILY = \"test\"\n",
    "\n",
    "EBMTrain = EBMLangVanilla(img_shape=(1, 28, 28),\n",
    "                           cnn=LeNet,\n",
    "                           batch_size=256,\n",
    "                           lr=5e-3,\n",
    "                           weight_decay=1e-3,\n",
    "                           mcmc_step_size=5e-6,\n",
    "                           mcmc_steps=2,\n",
    "                           model_name=MODEL_NAME,\n",
    "                           model_description=MODEL_DESCRIPTION,\n",
    "                           model_family=MODEL_FAMILY,\n",
    "                           overwrite=True,\n",
    "                           device=gpu_device)\n",
    "EBMTrain.setup()\n",
    "EBMTrain.prepare_data(train_set, test_set)\n",
    "\n",
    "try:\n",
    "    # Train the model for N epochs\n",
    "    EBMTrain.fit(2)\n",
    "finally:\n",
    "    # Clear\n",
    "    EBMTrain.clear()"
   ]
  },
  {
   "cell_type": "markdown",
   "metadata": {},
   "source": [
    "## Reload trained model"
   ]
  },
  {
   "cell_type": "markdown",
   "metadata": {},
   "source": [
    "### Same *name* and *hyperparams*"
   ]
  },
  {
   "cell_type": "code",
   "execution_count": null,
   "metadata": {},
   "outputs": [],
   "source": [
    "MODEL_NAME = \"langVanilla_test\"\n",
    "MODEL_DESCRIPTION = \"This is a debug run\"\n",
    "MODEL_FAMILY = \"test\"\n",
    "\n",
    "EBMTrain = EBMLangVanilla(img_shape=(1, 28, 28),\n",
    "                           cnn=LeNet,\n",
    "                           batch_size=256,\n",
    "                           lr=5e-3,\n",
    "                           weight_decay=1e-3,\n",
    "                           mcmc_step_size=5e-6,\n",
    "                           mcmc_steps=2,\n",
    "                           model_name=MODEL_NAME,\n",
    "                           model_description=MODEL_DESCRIPTION,\n",
    "                           model_family=MODEL_FAMILY,\n",
    "                           overwrite=True,\n",
    "                           reload_model=True,\n",
    "                           device=gpu_device)\n",
    "EBMTrain.setup()\n",
    "EBMTrain.prepare_data(train_set, test_set)"
   ]
  },
  {
   "cell_type": "markdown",
   "metadata": {},
   "source": [
    "Generate some samples from pretrained"
   ]
  },
  {
   "cell_type": "code",
   "execution_count": null,
   "metadata": {},
   "outputs": [],
   "source": [
    "mcmc_iter = 20\n",
    "EBMTrain.final_sampled_images = EBMTrain.tb_mcmc_images(\n",
    "    batch_size=64, mcmc_steps=mcmc_iter, name=\"final_images_sample\", evaluation=True)\n",
    "# Plot them\n",
    "print(\"Final sample after %d mcmc iterations:\" % mcmc_iter)\n",
    "fig, ax = plt.subplots(figsize=(10, 10))\n",
    "ax.imshow(EBMTrain.final_sampled_images.permute(1, 2, 0))\n",
    "plt.show()"
   ]
  },
  {
   "cell_type": "code",
   "execution_count": null,
   "metadata": {},
   "outputs": [],
   "source": [
    "# Clear\n",
    "EBMTrain.clear()"
   ]
  },
  {
   "cell_type": "markdown",
   "metadata": {},
   "source": [
    "### Reload from given path\n",
    "Hyperparams to be explicitely set:\n",
    "- mcmc_step_size\n",
    "- gpu_device\n",
    "- cnn  \n",
    "\n",
    "\n",
    "They have to be the same used during training (except fot GPU dev)"
   ]
  },
  {
   "cell_type": "code",
   "execution_count": null,
   "metadata": {
    "scrolled": true
   },
   "outputs": [],
   "source": [
    "model_root = \"saved_models/MNIST/...\"\n",
    "EBMTrain = EBMLangVanilla(mcmc_step_size=1e-3,\n",
    "                          cnn=CNNModel,\n",
    "                          reload_model=model_root,\n",
    "                          device=gpu_device)\n",
    "EBMTrain.setup()"
   ]
  },
  {
   "cell_type": "markdown",
   "metadata": {},
   "source": [
    "Generate some samples from pretrained"
   ]
  },
  {
   "cell_type": "code",
   "execution_count": null,
   "metadata": {},
   "outputs": [],
   "source": [
    "mcmc_iter = 500\n",
    "EBMTrain.final_sampled_images = EBMTrain.tb_mcmc_images(\n",
    "    batch_size=64, mcmc_steps=mcmc_iter, name=\"final_images_sample\", evaluation=True)\n",
    "# Plot them\n",
    "print(\"Final sample after %d mcmc iterations:\" % mcmc_iter)\n",
    "fig, ax = plt.subplots(figsize=(10, 10))\n",
    "ax.imshow(EBMTrain.final_sampled_images.permute(1, 2, 0))\n",
    "plt.show()"
   ]
  },
  {
   "cell_type": "code",
   "execution_count": null,
   "metadata": {},
   "outputs": [],
   "source": [
    "# Clear\n",
    "EBMTrain.clear()"
   ]
  }
 ],
 "metadata": {
  "kernelspec": {
   "display_name": "torch",
   "language": "python",
   "name": "torch"
  },
  "language_info": {
   "codemirror_mode": {
    "name": "ipython",
    "version": 3
   },
   "file_extension": ".py",
   "mimetype": "text/x-python",
   "name": "python",
   "nbconvert_exporter": "python",
   "pygments_lexer": "ipython3",
   "version": "3.7.10"
  },
  "latex_envs": {
   "LaTeX_envs_menu_present": true,
   "autoclose": false,
   "autocomplete": true,
   "bibliofile": "biblio.bib",
   "cite_by": "apalike",
   "current_citInitial": 1,
   "eqLabelWithNumbers": true,
   "eqNumInitial": 1,
   "hotkeys": {
    "equation": "Ctrl-E",
    "itemize": "Ctrl-I"
   },
   "labels_anchors": false,
   "latex_user_defs": false,
   "report_style_numbering": false,
   "user_envs_cfg": false
  },
  "toc": {
   "base_numbering": 1,
   "nav_menu": {},
   "number_sections": true,
   "sideBar": true,
   "skip_h1_title": false,
   "title_cell": "Table of Contents",
   "title_sidebar": "Contents",
   "toc_cell": false,
   "toc_position": {},
   "toc_section_display": true,
   "toc_window_display": false
  }
 },
 "nbformat": 4,
 "nbformat_minor": 2
}
